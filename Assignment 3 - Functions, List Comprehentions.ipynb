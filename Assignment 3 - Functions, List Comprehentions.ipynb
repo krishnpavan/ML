{
 "cells": [
  {
   "cell_type": "markdown",
   "metadata": {},
   "source": [
    "1.1 Write a Python Program to implement your own myreduce() function which works exactly\n",
    "like Python's built-in function reduce()"
   ]
  },
  {
   "cell_type": "code",
   "execution_count": 24,
   "metadata": {},
   "outputs": [
    {
     "name": "stdout",
     "output_type": "stream",
     "text": [
      "The sum of elements in list using my own myreduce function is 9\n",
      "The maximum number in list using my own myreduce function is 4\n"
     ]
    }
   ],
   "source": [
    "def myreduce(function, lst):\n",
    "    \n",
    "    '''\n",
    "    To find the sum and maximum number\n",
    "    of a list using my own myreduce() function to replicate python's in-built reduce() function\n",
    "\n",
    "    '''\n",
    "    # To store first element of list in result \n",
    "    result = lst[0]\n",
    "    \n",
    "    # To iterate over rest of the elements in a list\n",
    "    for i in lst[1:]:\n",
    "        \n",
    "    # Applying reduction function\n",
    "        result = function(result,i)\n",
    "    \n",
    "    # return the value in result\n",
    "    return result\n",
    "\n",
    "# Test function for adding all elements in a list    \n",
    "def summ(x,y):\n",
    "    return x+y\n",
    "\n",
    "# Test function for finding max_num of all elements in a list\n",
    "def max_num(x,y):\n",
    "    if x>y:\n",
    "        return x\n",
    "    else:\n",
    "        return y\n",
    "\n",
    "# sample list\n",
    "a = [2,3,4]\n",
    "\n",
    "# Printing the sum of all elements in list by calling my own custom myreduce() function\n",
    "print(\"The sum of elements in list using my own myreduce function is \" + str(myreduce(summ,a)))\n",
    "\n",
    "# Printing the maximum number in  list by calling my own custom myreduce() function\n",
    "print(\"The maximum number in list using my own myreduce function is \" + str(myreduce(max_num,a)))"
   ]
  },
  {
   "cell_type": "markdown",
   "metadata": {},
   "source": [
    "1.2 Write a Python program to implement your own myfilter() function which works exactly\n",
    "like Python's built-in function filter()"
   ]
  },
  {
   "cell_type": "code",
   "execution_count": 34,
   "metadata": {},
   "outputs": [
    {
     "name": "stdout",
     "output_type": "stream",
     "text": [
      "Even numbers filtered from the list a using my custom myfilter funnction is [2, 4, 6, 8]\n",
      "Negative numbers filtered from the list b using my custom myfilter function is [-1, -21, -5]\n"
     ]
    }
   ],
   "source": [
    "def myfilter(function, lst):\n",
    "    \n",
    "    '''\n",
    "    To filter out even numbers and \n",
    "    negative integers from a list\n",
    "    \n",
    "    '''\n",
    "    \n",
    "    # Create an empty list and store it in a variable result\n",
    "    result = []\n",
    "    \n",
    "    # Iterate over the specified list\n",
    "    for i in lst:\n",
    "        \n",
    "    # check the condition provided in the function\n",
    "        if function(i):\n",
    "            \n",
    "    # Add all the filtered elements to result using append() method\n",
    "            result.append(i)\n",
    "            \n",
    "    # Return final output   \n",
    "    return result\n",
    "\n",
    "# Test function for filtering even numbers from a specified list\n",
    "def even_check(num):\n",
    "    if num % 2 == 0:\n",
    "        return True\n",
    "    \n",
    "# Test function for filtering negative numbers from a specified list    \n",
    "def is_negative(num):\n",
    "    if num <= 0:\n",
    "        return True\n",
    "    else:\n",
    "        return False\n",
    "\n",
    "# Sample list   \n",
    "a = [2,3,4,5,6,8]\n",
    "b = [-1,6,-21,-5,8,12]\n",
    "\n",
    "# For printing the filtered even numbers from the list provided in a\n",
    "print(\"Even numbers filtered from the list a using my custom myfilter funnction is \" + str(myfilter(even_check,a)))\n",
    "\n",
    "# For printing the filtered negative numbers from the list provided in b\n",
    "print(\"Negative numbers filtered from the list b using my custom myfilter function is \" + str(myfilter(is_negative,b)))\n"
   ]
  },
  {
   "cell_type": "markdown",
   "metadata": {},
   "source": [
    "2. Implement List comprehensions to produce the following lists.\n",
    "Write List comprehensions to produce the following Lists\n",
    "['A', 'C', 'A', 'D', 'G', 'I', ’L’, ‘ D’]\n",
    "['x', 'xx', 'xxx', 'xxxx', 'y', 'yy', 'yyy', 'yyyy', 'z', 'zz', 'zzz', 'zzzz']\n",
    "['x', 'y', 'z', 'xx', 'yy', 'zz', 'xxx', 'yyy', 'zzz', 'xxxx', 'yyyy', 'zzzz']\n",
    "[[2], [3], [4], [3], [4], [5], [4], [5], [6]] [[2, 3, 4, 5], [3, 4, 5, 6],\n",
    "[4, 5, 6, 7], [5, 6, 7, 8]]\n",
    "[(1, 1), (2, 1), (3, 1), (1, 2), (2, 2), (3, 2), (1, 3), (2, 3), (3, 3)]\n"
   ]
  },
  {
   "cell_type": "code",
   "execution_count": 4,
   "metadata": {},
   "outputs": [
    {
     "data": {
      "text/plain": [
       "['x', 'xx', 'xxx', 'xxxx', 'y', 'yy', 'yyy', 'yyyy', 'z', 'zz', 'zzz', 'zzzz']"
      ]
     },
     "execution_count": 4,
     "metadata": {},
     "output_type": "execute_result"
    }
   ],
   "source": [
    "[i*j for i in ['x','y','z'] for j in range(1,5)]"
   ]
  },
  {
   "cell_type": "code",
   "execution_count": 3,
   "metadata": {},
   "outputs": [
    {
     "data": {
      "text/plain": [
       "['x', 'y', 'z', 'xx', 'yy', 'zz', 'xxx', 'yyy', 'zzz', 'xxxx', 'yyyy', 'zzzz']"
      ]
     },
     "execution_count": 3,
     "metadata": {},
     "output_type": "execute_result"
    }
   ],
   "source": [
    "[i*j for i in range(1,5) for j in ['x','y','z']]"
   ]
  },
  {
   "cell_type": "code",
   "execution_count": 10,
   "metadata": {},
   "outputs": [
    {
     "data": {
      "text/plain": [
       "[[2], [3], [4], [3], [4], [5], [4], [5], [6]]"
      ]
     },
     "execution_count": 10,
     "metadata": {},
     "output_type": "execute_result"
    }
   ],
   "source": [
    "[[i+j] for i in [0,1,2] for j in range(2,5)]"
   ]
  },
  {
   "cell_type": "code",
   "execution_count": 15,
   "metadata": {},
   "outputs": [
    {
     "data": {
      "text/plain": [
       "[[2, 3, 4, 5], [3, 4, 5, 6], [4, 5, 6, 7], [5, 6, 7, 8]]"
      ]
     },
     "execution_count": 15,
     "metadata": {},
     "output_type": "execute_result"
    }
   ],
   "source": [
    "[[i+j for i in [0,1,2,3]] for j in range(2,6)]"
   ]
  },
  {
   "cell_type": "code",
   "execution_count": 18,
   "metadata": {},
   "outputs": [
    {
     "data": {
      "text/plain": [
       "[(1, 1), (2, 1), (3, 1), (1, 2), (2, 2), (3, 2), (1, 3), (2, 3), (3, 3)]"
      ]
     },
     "execution_count": 18,
     "metadata": {},
     "output_type": "execute_result"
    }
   ],
   "source": [
    "[(i,j) for j in range(1,4) for i in range(1,4)]"
   ]
  },
  {
   "cell_type": "code",
   "execution_count": null,
   "metadata": {},
   "outputs": [],
   "source": []
  }
 ],
 "metadata": {
  "kernelspec": {
   "display_name": "Python 3",
   "language": "python",
   "name": "python3"
  },
  "language_info": {
   "codemirror_mode": {
    "name": "ipython",
    "version": 3
   },
   "file_extension": ".py",
   "mimetype": "text/x-python",
   "name": "python",
   "nbconvert_exporter": "python",
   "pygments_lexer": "ipython3",
   "version": "3.7.6"
  }
 },
 "nbformat": 4,
 "nbformat_minor": 4
}
