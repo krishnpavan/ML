{
 "cells": [
  {
   "cell_type": "markdown",
   "metadata": {},
   "source": [
    "# Assignment 4"
   ]
  },
  {
   "cell_type": "markdown",
   "metadata": {},
   "source": [
    "1.1 Write a Python Program(with class concepts) to find the area of the triangle using the below formula. area = (s(s-a)(s-b)(s-c)) * 0.5 Function to take the length of the sides of triangle from user should be defined in the parent class and function to calculate the area should be defined in subclas"
   ]
  },
  {
   "cell_type": "code",
   "execution_count": 10,
   "metadata": {},
   "outputs": [
    {
     "name": "stdout",
     "output_type": "stream",
     "text": [
      "Enter length of side a: 2\n",
      "Enter length of side b: 3\n",
      "Enter length of side c: 4\n",
      "Area of Triangle is: 2.9047\n"
     ]
    }
   ],
   "source": [
    "# Creating parent class Triangle()\n",
    "class Triangle():\n",
    "    \n",
    "    # In-built python method for taking length of the sides from user\n",
    "    def __init__(self):\n",
    "        self.a = float(input(\"Enter length of side a: \"))\n",
    "        self.b = float(input(\"Enter length of side b: \"))\n",
    "        self.c = float(input(\"Enter length of side c: \"))\n",
    "\n",
    "# Creating a subclass by passing the parent class as its parameter\n",
    "class Area_of_Triangle(Triangle):\n",
    "    \n",
    "    # Creating function area for calulating area of triangle by taking the input given by the user\n",
    "    def area(self):\n",
    "        \n",
    "        # To claculate perimeter of the triangle\n",
    "        s = (self.a + self.b + self.c)/2\n",
    "        area = (s*(s- self.a)*(s- self.b)*(s- self.c)) ** 0.5  \n",
    "        print(\"Area of Triangle is: %0.4f\" % area)\n",
    "\n",
    "# Calling subclass and storing in variable result       \n",
    "result = Area_of_Triangle()\n",
    "\n",
    "# Passing function area() to variable result\n",
    "result.area()"
   ]
  },
  {
   "cell_type": "markdown",
   "metadata": {},
   "source": [
    "1.2 Write a function filter_long_words() that takes a list of words and an integer n and returns\n",
    "the list of words that are longer than n."
   ]
  },
  {
   "cell_type": "code",
   "execution_count": 69,
   "metadata": {},
   "outputs": [
    {
     "name": "stdout",
     "output_type": "stream",
     "text": [
      "Longest words are:  'Clarivate', 'Analytics'\n"
     ]
    }
   ],
   "source": [
    "# Creating a function filter_long_words with two parameters words,n\n",
    "def filter_long_words(words,n):\n",
    "    \n",
    "    # Creating an empty list\n",
    "    l = []\n",
    "    \n",
    "    # Iterating over the length of strings in a list \n",
    "    for i in range(len(words)):\n",
    "        \n",
    "        # Checking if length of strings is greater than n\n",
    "        if len(words[i]) > n:\n",
    "            \n",
    "            # Adding the strings which are greater than n\n",
    "            l.append(words[i])\n",
    "            a = str(l)[1:-1]\n",
    "    print(\"Longest words are: \",a)\n",
    "    \n",
    "lst = [\"Clarivate\",\"Analytics\",\"Thomson\",\"Reuters\"]\n",
    "filter_long_words(lst,7)"
   ]
  },
  {
   "cell_type": "markdown",
   "metadata": {},
   "source": [
    "2.1 Write a Python program using function concept that maps list of words into a list of integers\n",
    "representing the lengths of the corresponding words.\n",
    "Hint: If a list [ ab,cde,erty] is passed on to the python function output should come as [2,3,4]\n",
    "Here 2,3 and 4 are the lengths of the words in the list."
   ]
  },
  {
   "cell_type": "code",
   "execution_count": 76,
   "metadata": {},
   "outputs": [
    {
     "data": {
      "text/plain": [
       "[2, 3, 4]"
      ]
     },
     "execution_count": 76,
     "metadata": {},
     "output_type": "execute_result"
    }
   ],
   "source": [
    "# Creating a function for finding length of each word given in a list\n",
    "def lst_len_of_words(words):\n",
    "    return len(words)\n",
    "\n",
    "# Creating required list\n",
    "l = ['ab','cde','erty']\n",
    "\n",
    "# Using mapfunction for finding the length of each word in the created list\n",
    "result = map(lst_len_of_words,l)\n",
    "\n",
    "list(result)\n"
   ]
  },
  {
   "cell_type": "markdown",
   "metadata": {},
   "source": [
    "2.2 Write a Python function which takes a character (i.e. a string of length 1) and returns True if\n",
    "it is a vowel, False otherwise."
   ]
  },
  {
   "cell_type": "code",
   "execution_count": 11,
   "metadata": {},
   "outputs": [
    {
     "name": "stdout",
     "output_type": "stream",
     "text": [
      "True\n",
      "False\n",
      "False\n",
      "False\n"
     ]
    }
   ],
   "source": [
    "def check_vowel(char):\n",
    "    \n",
    "    '''\n",
    "    This function checks a single character is vowel or not\n",
    "    \n",
    "    Parameters:\n",
    "    char: character to be checked\n",
    "    \n",
    "    Returns:\n",
    "    True if it is a single character vowel or false \n",
    "    \n",
    "    '''\n",
    "    \n",
    "    vowel = [\"a\",\"e\",\"i\",\"o\",\"u\"]\n",
    "    if type(char) == str and len(char) == 1 and char in vowel:\n",
    "        return True\n",
    "    else:\n",
    "        return False\n",
    "    \n",
    "print(check_vowel('a'))\n",
    "print(check_vowel('apple'))\n",
    "print(check_vowel('h'))\n",
    "print(check_vowel(1))"
   ]
  },
  {
   "cell_type": "code",
   "execution_count": null,
   "metadata": {},
   "outputs": [],
   "source": []
  },
  {
   "cell_type": "code",
   "execution_count": null,
   "metadata": {},
   "outputs": [],
   "source": []
  }
 ],
 "metadata": {
  "kernelspec": {
   "display_name": "Python 3",
   "language": "python",
   "name": "python3"
  }
 },
 "nbformat": 4,
 "nbformat_minor": 4
}
