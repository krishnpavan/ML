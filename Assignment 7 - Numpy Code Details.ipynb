{
 "cells": [
  {
   "cell_type": "markdown",
   "metadata": {},
   "source": [
    "# Assignment 7\n",
    "\n",
    "Question 1\n",
    "\n",
    "Write a function so that the columns of the output matrix are powers of the input vector.\n",
    "The order of the powers is determined by the increasing boolean argument. Specifically, when increasing is False, the i-th output column is the input vector raised element-wise to the power of N - i - 1.\n",
    "\n",
    "HINT: Such a matrix with a geometric progression in each row is named for Alexandre-Theophile Vandermonde."
   ]
  },
  {
   "cell_type": "code",
   "execution_count": 32,
   "metadata": {},
   "outputs": [],
   "source": [
    "import numpy as np"
   ]
  },
  {
   "cell_type": "code",
   "execution_count": 33,
   "metadata": {},
   "outputs": [],
   "source": [
    "def alex_vander(arr,n,increasing = False):\n",
    "    \n",
    "    '''\n",
    "    Function to get the vander matrix of ndarray\n",
    "    \n",
    "    Parameters\n",
    "    --------------\n",
    "    arr: array-like \n",
    "        input vector(1-D array)\n",
    "    n: int (optional)\n",
    "       Number of columns in the output.\n",
    "    increasing: bool(Optional)\n",
    "    Order of the powers of the columns.  If True, the powers increase\n",
    "        from left to right, if False (the default) they are reversed.\n",
    "    \n",
    "    Output\n",
    "    -------------\n",
    "    result : ndarray\n",
    "    Vandermode matrix\n",
    "    '''\n",
    "    if increasing:\n",
    "        # Creating a matrix where power increases from left to right and reshaping to required dimension\n",
    "        output_matrix = np.matrix([x**i for x in arr for i in range(n)]).reshape(arr.size,n) \n",
    "    else:\n",
    "        # Creating a matrix where power increases from right to left and reshaping to required dimension\n",
    "        output_matrix = np.matrix([x**(n-i-1) for x in arr for i in range(n)]).reshape(arr.size,n)\n",
    "    return output_matrix\n",
    "    "
   ]
  },
  {
   "cell_type": "code",
   "execution_count": 26,
   "metadata": {},
   "outputs": [],
   "source": [
    "# Creating a 1-D array i.e. 'arr' and no of required columns 'n'\n",
    "arr = np.array([1,3,5,7,9])\n",
    "n = 5  "
   ]
  },
  {
   "cell_type": "code",
   "execution_count": 29,
   "metadata": {},
   "outputs": [
    {
     "data": {
      "text/plain": [
       "matrix([[   1,    1,    1,    1,    1],\n",
       "        [   1,    3,    9,   27,   81],\n",
       "        [   1,    5,   25,  125,  625],\n",
       "        [   1,    7,   49,  343, 2401],\n",
       "        [   1,    9,   81,  729, 6561]])"
      ]
     },
     "execution_count": 29,
     "metadata": {},
     "output_type": "execute_result"
    }
   ],
   "source": [
    "# Calling the function by specifying paramemter increasing as True\n",
    "power_left_to_right = alex_vander(arr,n,True)\n",
    "power_left_to_right"
   ]
  },
  {
   "cell_type": "code",
   "execution_count": 31,
   "metadata": {},
   "outputs": [
    {
     "data": {
      "text/plain": [
       "matrix([[   1,    1,    1,    1,    1],\n",
       "        [  81,   27,    9,    3,    1],\n",
       "        [ 625,  125,   25,    5,    1],\n",
       "        [2401,  343,   49,    7,    1],\n",
       "        [6561,  729,   81,    9,    1]])"
      ]
     },
     "execution_count": 31,
     "metadata": {},
     "output_type": "execute_result"
    }
   ],
   "source": [
    "# Calling the function by specifying paramemter increasing as False\n",
    "power_right_to_left = alex_vander(arr,n,False)\n",
    "power_right_to_left"
   ]
  },
  {
   "cell_type": "code",
   "execution_count": null,
   "metadata": {},
   "outputs": [],
   "source": []
  },
  {
   "cell_type": "markdown",
   "metadata": {},
   "source": [
    "# Problem Statement 2:\n",
    "\n",
    "Given a sequence of n values x1, x2, ..., xn and a window size k>0, the k-th moving average of\n",
    "the given sequence is defined as follows:The moving average sequence has n-k+1 elements as shown below.\n",
    "\n",
    "The moving averages with k=4 of a ten-value sequence (n=10) is shown below\n",
    "i 1 2 3 4 5 6 7 8 9 10\n",
    "===== == == == == == == == == == ==\n",
    "Input 10 20 30 40 50 60 70 80 90 100\n",
    "y1 25 = (10+20+30+40)/4\n",
    "y2 35 = (20+30+40+50)/4\n",
    "y3 45 = (30+40+50+60)/4\n",
    "y4 55 = (40+50+60+70)\n",
    "y5 65 = (50+60+70+80)/4\n",
    "y6 75 = (60+70+80+90)/4\n",
    "y7 85 = (70+80+90+100)/4\n",
    "Thus, the moving average sequence has n-k+1=10-4+1=7 values.\n",
    "\n",
    "Question:Write a function to find moving average in an array over a window:\n",
    "Test it over [3, 5, 7, 2, 8, 10, 11, 65, 72, 81, 99, 100, 150] and window of 3."
   ]
  },
  {
   "cell_type": "code",
   "execution_count": 49,
   "metadata": {},
   "outputs": [],
   "source": [
    "def moving_avg(arr,n = 3):\n",
    "    '''\n",
    "    Get the moving average of a 1-D array.\n",
    "    \n",
    "    Parameters\n",
    "    ----------\n",
    "    arr : array like\n",
    "    input vector or 1-D array\n",
    "    \n",
    "    n: int\n",
    "    window to find the moving average. Default value is 3\n",
    "    \n",
    "    Return\n",
    "    ------\n",
    "    Array with moving averages.\n",
    "    '''\n",
    "\n",
    "    z = 1\n",
    "    # calculating moving average using numpy in-built convolve function\n",
    "    result = np.convolve(arr,np.ones(n),'valid') / n \n",
    "    for i in result:\n",
    "        print(\"y{0} = {1: .2f}\".format(z,i))\n",
    "        z = z + 1\n",
    "    "
   ]
  },
  {
   "cell_type": "code",
   "execution_count": 50,
   "metadata": {},
   "outputs": [
    {
     "name": "stdout",
     "output_type": "stream",
     "text": [
      "y1 =  5.00\n",
      "y2 =  4.67\n",
      "y3 =  5.67\n",
      "y4 =  6.67\n",
      "y5 =  9.67\n",
      "y6 =  28.67\n",
      "y7 =  49.33\n",
      "y8 =  72.67\n",
      "y9 =  84.00\n",
      "y10 =  93.33\n",
      "y11 =  116.33\n"
     ]
    }
   ],
   "source": [
    "# Creating array input\n",
    "arr = np.array([3, 5, 7, 2, 8, 10, 11, 65, 72, 81, 99, 100, 150])\n",
    "# Calling the function\n",
    "moving_avg(arr,3)"
   ]
  },
  {
   "cell_type": "code",
   "execution_count": null,
   "metadata": {},
   "outputs": [],
   "source": []
  }
 ],
 "metadata": {
  "kernelspec": {
   "display_name": "Python 3",
   "language": "python",
   "name": "python3"
  },
  "language_info": {
   "codemirror_mode": {
    "name": "ipython",
    "version": 3
   },
   "file_extension": ".py",
   "mimetype": "text/x-python",
   "name": "python",
   "nbconvert_exporter": "python",
   "pygments_lexer": "ipython3",
   "version": "3.7.6"
  }
 },
 "nbformat": 4,
 "nbformat_minor": 4
}
